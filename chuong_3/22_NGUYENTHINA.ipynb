{
 "cells": [
  {
   "cell_type": "code",
   "execution_count": 1,
   "id": "85b3778d",
   "metadata": {},
   "outputs": [],
   "source": [
    "import sqlite3\n",
    "import pandas as pd\n",
    "\n",
    "# Tạo kết nối SQLite trong bộ nhớ\n",
    "conn = sqlite3.connect(\":memory:\")\n",
    "cursor = conn.cursor()\n"
   ]
  },
  {
   "cell_type": "markdown",
   "id": "dc258e94",
   "metadata": {},
   "source": [
    "# Câu 1: Tính hệ số tương quan giữa A và B bằng SQL"
   ]
  },
  {
   "cell_type": "code",
   "execution_count": 2,
   "id": "c0f1e35f",
   "metadata": {},
   "outputs": [],
   "source": [
    "cursor.execute('''\n",
    "    CREATE TABLE Scores (\n",
    "        day TEXT,\n",
    "        A REAL,\n",
    "        B REAL\n",
    "    )\n",
    "''')\n",
    "\n",
    "data = [\n",
    "    (\"Day 1\", 8, 9),\n",
    "    (\"Day 2\", 7.5, 8.5),\n",
    "    (\"Day 3\", 6, 7),\n",
    "    (\"Day 4\", 7, 6)\n",
    "]\n",
    "\n",
    "cursor.executemany(\"INSERT INTO Scores VALUES (?, ?, ?)\", data)\n",
    "conn.commit()\n"
   ]
  },
  {
   "cell_type": "code",
   "execution_count": 3,
   "id": "ce8b38c1",
   "metadata": {},
   "outputs": [],
   "source": [
    "import math\n",
    "conn.create_function(\"SQRT\", 1, math.sqrt)\n"
   ]
  },
  {
   "cell_type": "code",
   "execution_count": 4,
   "id": "6392ae8b",
   "metadata": {},
   "outputs": [
    {
     "name": "stdout",
     "output_type": "stream",
     "text": [
      "Correlation A vs B: 0.6910506641398757\n"
     ]
    }
   ],
   "source": [
    "query = '''\n",
    "SELECT\n",
    "    (COUNT(*) * SUM(A * B) - SUM(A) * SUM(B)) /\n",
    "    (SQRT(COUNT(*) * SUM(A * A) - SUM(A) * SUM(A)) *\n",
    "     SQRT(COUNT(*) * SUM(B * B) - SUM(B) * SUM(B))) AS correlation_AB\n",
    "FROM Scores\n",
    "'''\n",
    "result = cursor.execute(query).fetchone()\n",
    "print(\"Correlation A vs B:\", result[0])\n",
    "\n"
   ]
  },
  {
   "cell_type": "markdown",
   "id": "3a1c8254",
   "metadata": {},
   "source": [
    "# Câu 2: Chuyển dữ liệu sang dạng quan hệ & kiểm định χ² bằng Python"
   ]
  },
  {
   "cell_type": "code",
   "execution_count": 5,
   "id": "f9785c16",
   "metadata": {},
   "outputs": [],
   "source": [
    "cursor.execute('''\n",
    "    CREATE TABLE Scores_ABC (\n",
    "        day TEXT,\n",
    "        A REAL,\n",
    "        B REAL,\n",
    "        C REAL\n",
    "    )\n",
    "''')\n",
    "\n",
    "data = [\n",
    "    (\"Day 1\", 8, 9, 7),\n",
    "    (\"Day 2\", 7.5, 8.5, 7),\n",
    "    (\"Day 3\", 6, 7, 8),\n",
    "    (\"Day 4\", 7, 6, 5)\n",
    "]\n",
    "cursor.executemany(\"INSERT INTO Scores_ABC VALUES (?, ?, ?, ?)\", data)\n",
    "conn.commit()\n"
   ]
  },
  {
   "cell_type": "code",
   "execution_count": 6,
   "id": "50b26f3b",
   "metadata": {},
   "outputs": [
    {
     "name": "stdout",
     "output_type": "stream",
     "text": [
      "     day model  score\n",
      "0  Day 1     A    8.0\n",
      "1  Day 2     A    7.5\n",
      "2  Day 3     A    6.0\n",
      "3  Day 4     A    7.0\n",
      "4  Day 1     B    9.0\n"
     ]
    }
   ],
   "source": [
    "df = pd.read_sql_query(\"SELECT * FROM Scores_ABC\", conn)\n",
    "df_long = df.melt(id_vars=[\"day\"], var_name=\"model\", value_name=\"score\")\n",
    "print(df_long.head())\n"
   ]
  },
  {
   "cell_type": "code",
   "execution_count": 7,
   "id": "8bb6c04b",
   "metadata": {},
   "outputs": [
    {
     "name": "stdout",
     "output_type": "stream",
     "text": [
      "Chi-square: 5.142857142857143 | p-value: 0.27295102496702883\n"
     ]
    }
   ],
   "source": [
    "import scipy.stats as stats\n",
    "\n",
    "# Phân loại điểm số (ví dụ: Low < 6, Medium 6-8, High > 8)\n",
    "df_long[\"score_cat\"] = pd.cut(df_long[\"score\"], bins=[0, 6, 8, 10], labels=[\"Low\", \"Medium\", \"High\"])\n",
    "\n",
    "# Tạo bảng tần suất\n",
    "contingency = pd.crosstab(df_long[\"model\"], df_long[\"score_cat\"])\n",
    "\n",
    "# Chi-square test\n",
    "chi2, p, _, _ = stats.chi2_contingency(contingency)\n",
    "print(\"Chi-square:\", chi2, \"| p-value:\", p)\n"
   ]
  },
  {
   "cell_type": "markdown",
   "id": "1a490f0f",
   "metadata": {},
   "source": [
    "# Câu 3: Chuyển giá trị thời gian thành định dạng chuẩn"
   ]
  },
  {
   "cell_type": "code",
   "execution_count": 8,
   "id": "9e935b81",
   "metadata": {},
   "outputs": [],
   "source": [
    "cursor.execute(\"CREATE TABLE Flights (departure_time INTEGER)\")\n",
    "cursor.executemany(\"INSERT INTO Flights (departure_time) VALUES (?)\", [(830,), (1445,), (30,), (0,)])\n",
    "conn.commit()\n"
   ]
  },
  {
   "cell_type": "code",
   "execution_count": 9,
   "id": "a37c4156",
   "metadata": {},
   "outputs": [
    {
     "name": "stdout",
     "output_type": "stream",
     "text": [
      "   departure_time time_formatted\n",
      "0             830          08:30\n",
      "1            1445          14:45\n",
      "2              30          00:30\n",
      "3               0          00:00\n"
     ]
    }
   ],
   "source": [
    "query = '''\n",
    "SELECT departure_time,\n",
    "       printf('%02d:%02d', departure_time / 100, departure_time % 100) AS time_formatted\n",
    "FROM Flights\n",
    "'''\n",
    "df_time = pd.read_sql_query(query, conn)\n",
    "print(df_time)\n"
   ]
  },
  {
   "cell_type": "markdown",
   "id": "0dbaa71e",
   "metadata": {},
   "source": [
    "# Câu 4: Tìm giá trị ngoại lệ bằng MAD"
   ]
  },
  {
   "cell_type": "code",
   "execution_count": 10,
   "id": "a8f7febe",
   "metadata": {},
   "outputs": [
    {
     "name": "stdout",
     "output_type": "stream",
     "text": [
      "   value  is_outlier\n",
      "0     10        True\n",
      "1     12       False\n",
      "2     13       False\n",
      "3     10        True\n",
      "4    100        True\n",
      "5     11       False\n",
      "6     12       False\n"
     ]
    }
   ],
   "source": [
    "data = [10, 12, 13, 10, 100, 11, 12]\n",
    "df = pd.DataFrame({\"value\": data})\n",
    "median = df[\"value\"].median()\n",
    "mad = (df[\"value\"] - median).abs().median()\n",
    "threshold = 1.5 * mad\n",
    "\n",
    "df[\"is_outlier\"] = (df[\"value\"] - median).abs() > threshold\n",
    "print(df)\n"
   ]
  },
  {
   "cell_type": "markdown",
   "id": "57159926",
   "metadata": {},
   "source": [
    "# Câu 5: Kiểm tra trùng lặp theo last_name và weight"
   ]
  },
  {
   "cell_type": "code",
   "execution_count": 11,
   "id": "1d186788",
   "metadata": {},
   "outputs": [],
   "source": [
    "cursor.execute('''\n",
    "    CREATE TABLE Patient (\n",
    "        last_name TEXT,\n",
    "        weight INTEGER,\n",
    "        height INTEGER\n",
    "    )\n",
    "''')\n",
    "\n",
    "data = [\n",
    "    (\"Nguyen\", 70, 170),\n",
    "    (\"Tran\", 60, 165),\n",
    "    (\"Nguyen\", 70, 171),\n",
    "    (\"Le\", 80, 180),\n",
    "    (\"Tran\", 65, 167)\n",
    "]\n",
    "cursor.executemany(\"INSERT INTO Patient VALUES (?, ?, ?)\", data)\n",
    "conn.commit()\n"
   ]
  },
  {
   "cell_type": "code",
   "execution_count": 12,
   "id": "c0f3e01c",
   "metadata": {},
   "outputs": [
    {
     "name": "stdout",
     "output_type": "stream",
     "text": [
      "  last_name  weight  height\n",
      "0    Nguyen      70     170\n",
      "1    Nguyen      70     171\n"
     ]
    }
   ],
   "source": [
    "query = '''\n",
    "SELECT *\n",
    "FROM Patient\n",
    "WHERE (last_name, weight) IN (\n",
    "    SELECT last_name, weight\n",
    "    FROM Patient\n",
    "    GROUP BY last_name, weight\n",
    "    HAVING COUNT(*) > 1\n",
    ")\n",
    "'''\n",
    "df_duplicates = pd.read_sql_query(query, conn)\n",
    "print(df_duplicates)\n"
   ]
  }
 ],
 "metadata": {
  "kernelspec": {
   "display_name": "base",
   "language": "python",
   "name": "python3"
  },
  "language_info": {
   "codemirror_mode": {
    "name": "ipython",
    "version": 3
   },
   "file_extension": ".py",
   "mimetype": "text/x-python",
   "name": "python",
   "nbconvert_exporter": "python",
   "pygments_lexer": "ipython3",
   "version": "3.12.4"
  }
 },
 "nbformat": 4,
 "nbformat_minor": 5
}
